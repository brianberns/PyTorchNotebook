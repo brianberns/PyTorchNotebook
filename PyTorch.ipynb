{
 "cells": [
  {
   "cell_type": "markdown",
   "metadata": {},
   "source": [
    "# Machine Learning\n",
    "\n",
    "Information that helped me with machine learning. (Not a comprehensive tutorial.)\n",
    "\n",
    "## Step 1. Developing in Python\n",
    "\n",
    "### VS Code\n",
    "\n",
    "* Text editor, not an IDE.\n",
    "\n",
    "* Marketplace of extensions that provide language-specific behavior.\n",
    "\n",
    "### Python\n",
    "\n",
    "* Interpreted language for data scientists. Slow but very flexible. Perfect for torturing actual software developers.\n",
    "\n",
    "* \"Virtual environments\" instead of projects, using `pip` to manage packages.\n",
    "\n",
    "### Jupyter\n",
    "\n",
    "* Code + markdown = executable documentation."
   ]
  },
  {
   "cell_type": "code",
   "execution_count": 109,
   "metadata": {},
   "outputs": [
    {
     "data": {
      "image/png": "[encoded data removed]",
      "text/plain": [
       "<Figure size 640x480 with 1 Axes>"
      ]
     },
     "metadata": {},
     "output_type": "display_data"
    }
   ],
   "source": [
    "import math\n",
    "import matplotlib.pyplot as plt\n",
    "\n",
    "x = [-6,-5,-4,-3,-2,-1,0,1,2,3,4,5,6]\n",
    "y = [1/(1+math.exp(-z)) for z in x]   # sigmoid function\n",
    "\n",
    "plt.plot(x,y)\n",
    "plt.show()"
   ]
  },
  {
   "cell_type": "markdown",
   "metadata": {},
   "source": [
    "![](https://www.gstatic.com/education/formulas2/553212783/en/sigmoid_function.svg)"
   ]
  },
  {
   "cell_type": "markdown",
   "metadata": {},
   "source": [
    "## Step 2. PyTorch\n",
    "\n",
    "* Open source machine learning framework from Meta.\n",
    "\n",
    "* Becoming more popular than Google's Tensorflow.\n",
    "\n",
    "* Can run on either CPU (slow) or GPU (fast, called \"CUDA\")."
   ]
  },
  {
   "cell_type": "code",
   "execution_count": 110,
   "metadata": {},
   "outputs": [
    {
     "name": "stdout",
     "output_type": "stream",
     "text": [
      "2.0.1+cpu\n"
     ]
    }
   ],
   "source": [
    "import torch\n",
    "\n",
    "print(torch.__version__)"
   ]
  },
  {
   "cell_type": "markdown",
   "metadata": {},
   "source": [
    "## Step 3. Tensors\n",
    "\n",
    "**A tensor is an N-dimensional array.**\n",
    "\n",
    "<img src=\"https://miro.medium.com/1*6Z892ClZGon03_Mawj4Pew.png\" width=\"400\"/>\n",
    "\n",
    "### 0-dimensional tensor\n",
    "\n",
    "Also known as a scalar. Here we create a tensor from a single numeric value:"
   ]
  },
  {
   "cell_type": "code",
   "execution_count": null,
   "metadata": {},
   "outputs": [],
   "source": [
    "ndim0 = torch.tensor(3.1415)\n",
    "print(ndim0)"
   ]
  },
  {
   "cell_type": "markdown",
   "metadata": {},
   "source": [
    "### 1-dimensional tensor\n",
    "\n",
    "Also known as a vector. We can create a tensor from a Python list:"
   ]
  },
  {
   "cell_type": "code",
   "execution_count": null,
   "metadata": {},
   "outputs": [],
   "source": [
    "ndim1 = torch.tensor([1, 2, 4, 8, 16, 32])\n",
    "print(ndim1)"
   ]
  },
  {
   "cell_type": "markdown",
   "metadata": {},
   "source": [
    "(Note: A vector can also be considered as a position in N-dimensional space. Both interpretations are valid, but don't get them mixed up.)"
   ]
  },
  {
   "cell_type": "markdown",
   "metadata": {},
   "source": [
    "### 2-dimensional tensor\n",
    "\n",
    "Also known as a matrix, which is essentially a table of rows and columns. Here, we generate a 1D tensor of 12 integers, and then change its shape:"
   ]
  },
  {
   "cell_type": "code",
   "execution_count": 32,
   "metadata": {},
   "outputs": [
    {
     "name": "stdout",
     "output_type": "stream",
     "text": [
      "tensor([[ 0,  1,  2,  3],\n",
      "        [ 4,  5,  6,  7],\n",
      "        [ 8,  9, 10, 11]])\n"
     ]
    }
   ],
   "source": [
    "range = torch.arange(0, 12)\n",
    "ndim2 = range.view(3, 4)   # 3 rows by 4 columns\n",
    "print(ndim2)"
   ]
  },
  {
   "cell_type": "markdown",
   "metadata": {},
   "source": [
    "Note that ranges in Python are [inclusive, exclusive).\n",
    "\n",
    "We can modify the data in the tensor:"
   ]
  },
  {
   "cell_type": "code",
   "execution_count": 33,
   "metadata": {},
   "outputs": [
    {
     "name": "stdout",
     "output_type": "stream",
     "text": [
      "tensor([[   0,    1,    2,    3],\n",
      "        [-100,    5,    6,    7],\n",
      "        [   8,    9,   10,   11]])\n"
     ]
    }
   ],
   "source": [
    "ndim2[1,0] = -100\n",
    "print(ndim2)"
   ]
  },
  {
   "cell_type": "markdown",
   "metadata": {},
   "source": [
    "Note that the view shares its data with the original tensor:"
   ]
  },
  {
   "cell_type": "code",
   "execution_count": 111,
   "metadata": {},
   "outputs": [
    {
     "name": "stdout",
     "output_type": "stream",
     "text": [
      "tensor([   0,    1,    2,    3, -100,    5,    6,    7,    8,    9,   10,   11])\n"
     ]
    }
   ],
   "source": [
    "print(range)"
   ]
  },
  {
   "cell_type": "markdown",
   "metadata": {},
   "source": [
    "We can also transpose a tensor's rows and columns:"
   ]
  },
  {
   "cell_type": "code",
   "execution_count": 115,
   "metadata": {},
   "outputs": [
    {
     "name": "stdout",
     "output_type": "stream",
     "text": [
      "tensor([[   0,    1,    2,    3],\n",
      "        [-100,    5,    6,    7],\n",
      "        [   8,    9,   10,   11]])\n"
     ]
    }
   ],
   "source": [
    "print(ndim2.transpose(0, 1))   # transpose dim-0 and dim-1"
   ]
  },
  {
   "cell_type": "markdown",
   "metadata": {},
   "source": [
    "### 3-dimensional tensor"
   ]
  },
  {
   "cell_type": "code",
   "execution_count": 116,
   "metadata": {},
   "outputs": [
    {
     "name": "stdout",
     "output_type": "stream",
     "text": [
      "tensor([[[0.6263, 0.8852, 0.4303, 0.9129],\n",
      "         [0.0803, 0.3661, 0.6695, 0.3881],\n",
      "         [0.9072, 0.7702, 0.4240, 0.9634]],\n",
      "\n",
      "        [[0.7131, 0.9420, 0.0688, 0.8673],\n",
      "         [0.6058, 0.4113, 0.1891, 0.6410],\n",
      "         [0.9686, 0.0151, 0.5488, 0.3222]]])\n"
     ]
    }
   ],
   "source": [
    "ndim3 = torch.rand(2, 3, 4)   # 2 layers X 3 rows X 4 columns\n",
    "print(ndim3)"
   ]
  },
  {
   "cell_type": "markdown",
   "metadata": {},
   "source": [
    "### Higher dimensions\n",
    "\n",
    "It gets harder to visualize tensors as the number of dimensions increases:"
   ]
  },
  {
   "cell_type": "code",
   "execution_count": 4,
   "metadata": {},
   "outputs": [
    {
     "name": "stdout",
     "output_type": "stream",
     "text": [
      "tensor([[[[0.7281, 0.7529, 0.1245],\n",
      "          [0.6339, 0.2286, 0.2368]],\n",
      "\n",
      "         [[0.9929, 0.9212, 0.8524],\n",
      "          [0.6799, 0.3778, 0.1866]],\n",
      "\n",
      "         [[0.3347, 0.5536, 0.4908],\n",
      "          [0.1231, 0.6237, 0.3349]]],\n",
      "\n",
      "\n",
      "        [[[0.0228, 0.9878, 0.0744],\n",
      "          [0.9524, 0.7965, 0.8330]],\n",
      "\n",
      "         [[0.0393, 0.2747, 0.4127],\n",
      "          [0.7570, 0.3762, 0.6800]],\n",
      "\n",
      "         [[0.9239, 0.4075, 0.3881],\n",
      "          [0.8620, 0.8331, 0.7973]]]])\n"
     ]
    }
   ],
   "source": [
    "ndim4 = torch.rand(2, 3, 2, 3)   # 2 hyperlayers X 3 layers X 2 rows X 3 columns\n",
    "print(ndim4)"
   ]
  },
  {
   "cell_type": "markdown",
   "metadata": {},
   "source": [
    "### Changing dimensionality\n",
    "\n",
    "Start with a 1D vector:"
   ]
  },
  {
   "cell_type": "code",
   "execution_count": 164,
   "metadata": {},
   "outputs": [
    {
     "name": "stdout",
     "output_type": "stream",
     "text": [
      "tensor([-4, -3, -2, -1,  0,  1,  2,  3,  4])\n",
      "torch.Size([9])\n"
     ]
    }
   ],
   "source": [
    "vector = torch.arange(-4, 5)   # 1D: 9 columns\n",
    "print(vector)\n",
    "print(vector.shape)"
   ]
  },
  {
   "cell_type": "markdown",
   "metadata": {},
   "source": [
    "If we insert a dimension of size 1 in front, the columns stay columns:"
   ]
  },
  {
   "cell_type": "code",
   "execution_count": 166,
   "metadata": {},
   "outputs": [
    {
     "name": "stdout",
     "output_type": "stream",
     "text": [
      "tensor([[-4, -3, -2, -1,  0,  1,  2,  3,  4]])\n",
      "torch.Size([1, 9])\n"
     ]
    }
   ],
   "source": [
    "unsq0 = vector.unsqueeze(0)   # 2D: 1 row x 9 columns\n",
    "print(unsq0)\n",
    "print(unsq0.shape)"
   ]
  },
  {
   "cell_type": "markdown",
   "metadata": {},
   "source": [
    "If we insert a dimension of size 1 at the end, the columns become rows:"
   ]
  },
  {
   "cell_type": "code",
   "execution_count": 167,
   "metadata": {},
   "outputs": [
    {
     "name": "stdout",
     "output_type": "stream",
     "text": [
      "tensor([[-4],\n",
      "        [-3],\n",
      "        [-2],\n",
      "        [-1],\n",
      "        [ 0],\n",
      "        [ 1],\n",
      "        [ 2],\n",
      "        [ 3],\n",
      "        [ 4]])\n",
      "torch.Size([9, 1])\n"
     ]
    }
   ],
   "source": [
    "unsq1 = vector.unsqueeze(1)   # 2D: 9 rows x 1 column\n",
    "print(unsq1)\n",
    "print(unsq1.shape)"
   ]
  },
  {
   "cell_type": "markdown",
   "metadata": {},
   "source": [
    "## Step 4. Neural network building blocks\n",
    "\n",
    "Some examples from the \"nn\" zoo:"
   ]
  },
  {
   "cell_type": "code",
   "execution_count": 28,
   "metadata": {},
   "outputs": [],
   "source": [
    "from torch import nn"
   ]
  },
  {
   "cell_type": "markdown",
   "metadata": {},
   "source": [
    "* In general, these are functions of type `Tensor -> Tensor`, so a complex neural network can be built by composition.\n",
    "\n",
    "* During training, the model learns the best values for the parameters inside these blocks."
   ]
  },
  {
   "cell_type": "markdown",
   "metadata": {},
   "source": [
    "### Linear layer\n",
    "\n",
    "Applies a linear transformation: y = xW<sup>T</sup> + B\n",
    "\n",
    "Where:\n",
    "* x is the input tensor\n",
    "* y is the output tensor\n",
    "* W is a 2D tensor of weight parameters\n",
    "* B is a 1D tensor of bias parameters\n",
    "* xW<sup>T</sup> is matrix multiplication of x by the transpose of W."
   ]
  },
  {
   "cell_type": "code",
   "execution_count": 186,
   "metadata": {},
   "outputs": [
    {
     "name": "stdout",
     "output_type": "stream",
     "text": [
      "Weight: torch.Size([30, 20])\n",
      "Bias: torch.Size([30])\n",
      "Total # of parms: 630\n"
     ]
    }
   ],
   "source": [
    "linear = nn.Linear(in_features=20, out_features=30)\n",
    "print(\"Weight:\", linear.weight.shape)\n",
    "print(\"Bias:\", linear.bias.shape)\n",
    "print(\"Total # of parms:\", sum(parm.numel() for parm in linear.parameters()))   # (30 x 20) + 30"
   ]
  },
  {
   "cell_type": "markdown",
   "metadata": {},
   "source": [
    "Linear transforms are useful for \"projecting\" a tensor into a different shape with the same number of dimensions:"
   ]
  },
  {
   "cell_type": "code",
   "execution_count": 187,
   "metadata": {},
   "outputs": [
    {
     "name": "stdout",
     "output_type": "stream",
     "text": [
      "Input: torch.Size([5, 6, 20])\n",
      "Output: torch.Size([5, 6, 30])\n"
     ]
    }
   ],
   "source": [
    "x = torch.rand(5, 6, 20)   # last dimension must match linear input\n",
    "print(\"Input:\", x.shape)\n",
    "y = linear(x)              # result is still 3D, but now with 30 columns\n",
    "print(\"Output:\", y.shape)"
   ]
  },
  {
   "cell_type": "markdown",
   "metadata": {},
   "source": [
    "### Dropout layer"
   ]
  },
  {
   "cell_type": "markdown",
   "metadata": {},
   "source": [
    "Randomly sets some of the input to zero during training (and the remaining elements are scaled up proportionally). Dropout prevents the model from becoming too reliant on a small set of parameters.\n",
    "\n",
    "A dropout layer has no parameters, but its dropout rate (e.g. 20%) is a hyperparameter."
   ]
  },
  {
   "cell_type": "code",
   "execution_count": 67,
   "metadata": {},
   "outputs": [
    {
     "name": "stdout",
     "output_type": "stream",
     "text": [
      "tensor([[1., 1., 1., 1.],\n",
      "        [1., 1., 1., 1.],\n",
      "        [1., 1., 1., 1.]])\n",
      "tensor([[1.2500, 1.2500, 0.0000, 1.2500],\n",
      "        [0.0000, 1.2500, 1.2500, 1.2500],\n",
      "        [1.2500, 1.2500, 0.0000, 0.0000]])\n",
      "tensor([[1.2500, 1.2500, 1.2500, 1.2500],\n",
      "        [1.2500, 0.0000, 1.2500, 1.2500],\n",
      "        [1.2500, 1.2500, 1.2500, 1.2500]])\n"
     ]
    }
   ],
   "source": [
    "dropout = nn.Dropout(0.2)\n",
    "\n",
    "x = torch.ones(3, 4)\n",
    "print(x)\n",
    "y = dropout(x)\n",
    "print(y)"
   ]
  },
  {
   "cell_type": "markdown",
   "metadata": {},
   "source": [
    "The dropout is recomputed during each application, so results are not deterministic:"
   ]
  },
  {
   "cell_type": "code",
   "execution_count": 108,
   "metadata": {},
   "outputs": [
    {
     "name": "stdout",
     "output_type": "stream",
     "text": [
      "tensor([[1.2500, 1.2500, 1.2500, 1.2500],\n",
      "        [1.2500, 1.2500, 1.2500, 1.2500],\n",
      "        [0.0000, 1.2500, 1.2500, 1.2500]])\n"
     ]
    }
   ],
   "source": [
    "y = dropout(x)\n",
    "print(y)"
   ]
  },
  {
   "cell_type": "markdown",
   "metadata": {},
   "source": [
    "### Layer normalization\n",
    "\n",
    "Normalizes input around its mean and standard deviation. This reduces training time by reigning in large values."
   ]
  },
  {
   "cell_type": "code",
   "execution_count": 128,
   "metadata": {},
   "outputs": [
    {
     "name": "stdout",
     "output_type": "stream",
     "text": [
      "tensor([[ 0.,  1.,  2.,  3.],\n",
      "        [ 4.,  5.,  6.,  7.],\n",
      "        [ 8.,  9., 10., 11.]])\n",
      "tensor([[-1.3416, -0.4472,  0.4472,  1.3416],\n",
      "        [-1.3416, -0.4472,  0.4472,  1.3416],\n",
      "        [-1.3416, -0.4472,  0.4472,  1.3416]])\n"
     ]
    }
   ],
   "source": [
    "numColumns = 4\n",
    "norm = nn.LayerNorm(numColumns)   # expect last dimension of this size\n",
    "\n",
    "x = torch.arange(0.0, 12.0).view(-1, numColumns)   # -1: PyTorch infers the # of rows\n",
    "print(x)\n",
    "y = norm(x)\n",
    "print(y)"
   ]
  },
  {
   "cell_type": "markdown",
   "metadata": {},
   "source": [
    "The normalization can have weight and bias parameters that the model learns during training:"
   ]
  },
  {
   "cell_type": "code",
   "execution_count": 127,
   "metadata": {},
   "outputs": [
    {
     "name": "stdout",
     "output_type": "stream",
     "text": [
      "Weight: Parameter containing:\n",
      "tensor([1., 1., 1., 1.], requires_grad=True)\n",
      "Bias: Parameter containing:\n",
      "tensor([0., 0., 0., 0.], requires_grad=True)\n"
     ]
    }
   ],
   "source": [
    "print(\"Weight:\", norm.weight)\n",
    "print(\"Bias:\", norm.bias)"
   ]
  },
  {
   "cell_type": "markdown",
   "metadata": {},
   "source": [
    "### Embedding\n",
    "\n",
    "asdf"
   ]
  },
  {
   "cell_type": "markdown",
   "metadata": {},
   "source": [
    "### Activation\n",
    "\n",
    "asdf"
   ]
  },
  {
   "cell_type": "markdown",
   "metadata": {},
   "source": [
    "## Building a model"
   ]
  },
  {
   "cell_type": "code",
   "execution_count": 225,
   "metadata": {},
   "outputs": [
    {
     "name": "stdout",
     "output_type": "stream",
     "text": [
      "Parameter containing:\n",
      "tensor([[-0.7355]], requires_grad=True)\n",
      "Parameter containing:\n",
      "tensor([0.8638], requires_grad=True)\n"
     ]
    }
   ],
   "source": [
    "linear = nn.Linear(1, 1)\n",
    "print(linear.weight)\n",
    "print(linear.bias)"
   ]
  },
  {
   "cell_type": "code",
   "execution_count": 226,
   "metadata": {},
   "outputs": [
    {
     "name": "stdout",
     "output_type": "stream",
     "text": [
      "tensor([[-5.],\n",
      "        [-4.],\n",
      "        [-3.],\n",
      "        [-2.],\n",
      "        [-1.],\n",
      "        [ 0.],\n",
      "        [ 1.],\n",
      "        [ 2.],\n",
      "        [ 3.],\n",
      "        [ 4.],\n",
      "        [ 5.]])\n"
     ]
    }
   ],
   "source": [
    "domain = 5.0\n",
    "input = torch.arange(-domain, domain+1).unsqueeze(1)\n",
    "print(input)"
   ]
  },
  {
   "cell_type": "code",
   "execution_count": 227,
   "metadata": {},
   "outputs": [
    {
     "name": "stdout",
     "output_type": "stream",
     "text": [
      "tensor([[ 4.5415],\n",
      "        [ 3.8059],\n",
      "        [ 3.0704],\n",
      "        [ 2.3349],\n",
      "        [ 1.5994],\n",
      "        [ 0.8638],\n",
      "        [ 0.1283],\n",
      "        [-0.6072],\n",
      "        [-1.3427],\n",
      "        [-2.0783],\n",
      "        [-2.8138]])\n"
     ]
    }
   ],
   "source": [
    "output = linear(input)\n",
    "print(output)"
   ]
  },
  {
   "cell_type": "code",
   "execution_count": 242,
   "metadata": {},
   "outputs": [
    {
     "name": "stdout",
     "output_type": "stream",
     "text": [
      "tensor([[-5.],\n",
      "        [-4.],\n",
      "        [-3.],\n",
      "        [-2.],\n",
      "        [-1.],\n",
      "        [ 0.],\n",
      "        [ 1.],\n",
      "        [ 2.],\n",
      "        [ 3.],\n",
      "        [ 4.],\n",
      "        [ 5.]], requires_grad=True)\n",
      "tensor([-10.,  -8.,  -6.,  -4.,  -2.,   0.,   2.,   4.,   6.,   8.,  10.])\n",
      "tensor(5.7649)\n"
     ]
    },
    {
     "name": "stderr",
     "output_type": "stream",
     "text": [
      "C:\\Users\\u1102956\\AppData\\Local\\Temp\\ipykernel_19736\\1204717356.py:9: UserWarning: Using a target size (torch.Size([11])) that is different to the input size (torch.Size([11, 1])). This will likely lead to incorrect results due to broadcasting. Please ensure they have the same size.\n",
      "  return nn.functional.l1_loss(yActual, yExpected)\n"
     ]
    },
    {
     "ename": "RuntimeError",
     "evalue": "element 0 of tensors does not require grad and does not have a grad_fn",
     "output_type": "error",
     "traceback": [
      "\u001b[1;31m---------------------------------------------------------------------------\u001b[0m",
      "\u001b[1;31mRuntimeError\u001b[0m                              Traceback (most recent call last)",
      "\u001b[1;32mc:\\Users\\u1102956\\source\\IQVIA\\Experimental\\PyTorchNotebook\\PyTorch.ipynb Cell 51\u001b[0m line \u001b[0;36m1\n\u001b[0;32m     <a href='vscode-notebook-cell:/c%3A/Users/u1102956/source/IQVIA/Experimental/PyTorchNotebook/PyTorch.ipynb#Y115sZmlsZQ%3D%3D?line=14'>15</a>\u001b[0m optimizer \u001b[39m=\u001b[39m torch\u001b[39m.\u001b[39moptim\u001b[39m.\u001b[39mSGD(linear\u001b[39m.\u001b[39mparameters(), lr\u001b[39m=\u001b[39m\u001b[39m0.1\u001b[39m)\n\u001b[0;32m     <a href='vscode-notebook-cell:/c%3A/Users/u1102956/source/IQVIA/Experimental/PyTorchNotebook/PyTorch.ipynb#Y115sZmlsZQ%3D%3D?line=15'>16</a>\u001b[0m optimizer\u001b[39m.\u001b[39mzero_grad()\n\u001b[1;32m---> <a href='vscode-notebook-cell:/c%3A/Users/u1102956/source/IQVIA/Experimental/PyTorchNotebook/PyTorch.ipynb#Y115sZmlsZQ%3D%3D?line=16'>17</a>\u001b[0m loss\u001b[39m.\u001b[39;49mbackward()\n\u001b[0;32m     <a href='vscode-notebook-cell:/c%3A/Users/u1102956/source/IQVIA/Experimental/PyTorchNotebook/PyTorch.ipynb#Y115sZmlsZQ%3D%3D?line=17'>18</a>\u001b[0m optimizer\u001b[39m.\u001b[39mstep()\n\u001b[0;32m     <a href='vscode-notebook-cell:/c%3A/Users/u1102956/source/IQVIA/Experimental/PyTorchNotebook/PyTorch.ipynb#Y115sZmlsZQ%3D%3D?line=18'>19</a>\u001b[0m \u001b[39mprint\u001b[39m(linear\u001b[39m.\u001b[39mweight)\n",
      "File \u001b[1;32mc:\\Users\\u1102956\\source\\IQVIA\\Experimental\\PyTorchNotebook\\.venv\\lib\\site-packages\\torch\\_tensor.py:487\u001b[0m, in \u001b[0;36mTensor.backward\u001b[1;34m(self, gradient, retain_graph, create_graph, inputs)\u001b[0m\n\u001b[0;32m    477\u001b[0m \u001b[39mif\u001b[39;00m has_torch_function_unary(\u001b[39mself\u001b[39m):\n\u001b[0;32m    478\u001b[0m     \u001b[39mreturn\u001b[39;00m handle_torch_function(\n\u001b[0;32m    479\u001b[0m         Tensor\u001b[39m.\u001b[39mbackward,\n\u001b[0;32m    480\u001b[0m         (\u001b[39mself\u001b[39m,),\n\u001b[1;32m   (...)\u001b[0m\n\u001b[0;32m    485\u001b[0m         inputs\u001b[39m=\u001b[39minputs,\n\u001b[0;32m    486\u001b[0m     )\n\u001b[1;32m--> 487\u001b[0m torch\u001b[39m.\u001b[39;49mautograd\u001b[39m.\u001b[39;49mbackward(\n\u001b[0;32m    488\u001b[0m     \u001b[39mself\u001b[39;49m, gradient, retain_graph, create_graph, inputs\u001b[39m=\u001b[39;49minputs\n\u001b[0;32m    489\u001b[0m )\n",
      "File \u001b[1;32mc:\\Users\\u1102956\\source\\IQVIA\\Experimental\\PyTorchNotebook\\.venv\\lib\\site-packages\\torch\\autograd\\__init__.py:200\u001b[0m, in \u001b[0;36mbackward\u001b[1;34m(tensors, grad_tensors, retain_graph, create_graph, grad_variables, inputs)\u001b[0m\n\u001b[0;32m    195\u001b[0m     retain_graph \u001b[39m=\u001b[39m create_graph\n\u001b[0;32m    197\u001b[0m \u001b[39m# The reason we repeat same the comment below is that\u001b[39;00m\n\u001b[0;32m    198\u001b[0m \u001b[39m# some Python versions print out the first line of a multi-line function\u001b[39;00m\n\u001b[0;32m    199\u001b[0m \u001b[39m# calls in the traceback and some print out the last line\u001b[39;00m\n\u001b[1;32m--> 200\u001b[0m Variable\u001b[39m.\u001b[39;49m_execution_engine\u001b[39m.\u001b[39;49mrun_backward(  \u001b[39m# Calls into the C++ engine to run the backward pass\u001b[39;49;00m\n\u001b[0;32m    201\u001b[0m     tensors, grad_tensors_, retain_graph, create_graph, inputs,\n\u001b[0;32m    202\u001b[0m     allow_unreachable\u001b[39m=\u001b[39;49m\u001b[39mTrue\u001b[39;49;00m, accumulate_grad\u001b[39m=\u001b[39;49m\u001b[39mTrue\u001b[39;49;00m)\n",
      "\u001b[1;31mRuntimeError\u001b[0m: element 0 of tensors does not require grad and does not have a grad_fn"
     ]
    }
   ],
   "source": [
    "def targetFunc(x):\n",
    "    # return 2 * x + 1\n",
    "    return torch.sum(torch.mul(2, x), 1)\n",
    "\n",
    "def getLoss(x, yActual):\n",
    "    print(x)\n",
    "    yExpected = targetFunc(x)\n",
    "    print(yExpected)\n",
    "    return nn.functional.l1_loss(yActual, yExpected)\n",
    "\n",
    "input.requires_grad_()\n",
    "loss = getLoss(input, output)\n",
    "print(loss)\n",
    "\n",
    "optimizer = torch.optim.SGD(linear.parameters(), lr=0.1)\n",
    "optimizer.zero_grad()\n",
    "loss.backward()\n",
    "optimizer.step()\n",
    "print(linear.weight)\n",
    "print(linear.bias)"
   ]
  }
 ],
 "metadata": {
  "kernelspec": {
   "display_name": ".venv",
   "language": "python",
   "name": "python3"
  },
  "language_info": {
   "codemirror_mode": {
    "name": "ipython",
    "version": 3
   },
   "file_extension": ".py",
   "mimetype": "text/x-python",
   "name": "python",
   "nbconvert_exporter": "python",
   "pygments_lexer": "ipython3",
   "version": "3.9.13"
  },
  "orig_nbformat": 4
 },
 "nbformat": 4,
 "nbformat_minor": 2
}
